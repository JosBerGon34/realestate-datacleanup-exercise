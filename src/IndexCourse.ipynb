{
 "cells": [
  {
   "cell_type": "markdown",
   "id": "2dd5c7eb",
   "metadata": {},
   "source": [
    "PARA VOLVER AL REPOSITORIO DE INDICES EJECUTA EL COMANDO:\n",
    "git checkout main"
   ]
  },
  {
   "cell_type": "markdown",
   "id": "801507f9",
   "metadata": {
    "vscode": {
     "languageId": "plaintext"
    }
   },
   "source": [
    "MÓDULO 1 Prework Review:\n",
    "7 Actividades\n",
    "The Pre-work was about Python, Numpy, Pandas and Matplotlib but we understand that was a lot, \n",
    "let's go over some of the concepts with the rest of your cohort and mentors.\n",
    "\n",
    "git checkout MOD1.PREWORKREVIEW"
   ]
  },
  {
   "cell_type": "markdown",
   "id": "9ab457ac",
   "metadata": {},
   "source": [
    "MÓDULO 2 Calculus and L. Algebra:\n",
    "5 Actividades\n",
    "Linear Algebra's Matrix and Vectors are heavily used in Machine Learning, these structures are mainly used to store manipulate high amounts of information. Also, L. \n",
    "algebra functions \"f(x)\" help understand the relationship between target variables \"y\" and their predictors \"x\".\n",
    "\n",
    "\n",
    "git checkout MOD2.CalcAlgebra"
   ]
  },
  {
   "cell_type": "markdown",
   "id": "1ab136ef",
   "metadata": {},
   "source": [
    "MÓDULO 3 Github:\n",
    "6 Actividades\n",
    "GitHub is where 90% of the world's code lives. Most data science libraries, large language models, \n",
    "and notebooks are open-source and through GitHub. The reason for this is collaboration: Today, you will collaborate like a real AI professional!"
   ]
  },
  {
   "cell_type": "markdown",
   "id": "90293c4b",
   "metadata": {},
   "source": [
    "MÓDULO 4 Probability:\n",
    "2 Actividades\n",
    "A machine learning algorithm is basically all about probability, \n",
    "you have to predict how probable an event or data is to happen, \n",
    "that is why we need to go over the basic probability functions to better create our future models."
   ]
  },
  {
   "cell_type": "markdown",
   "id": "8d77a93f",
   "metadata": {},
   "source": [
    "MÓDULO 5 Descriptive Statistics:\n",
    "3 Actividades\n",
    "When you have a big dataset, you cannot calculate very specific values because there is too much data, what you can do is get central tendency values like the mean, median and standard deviation and others."
   ]
  },
  {
   "cell_type": "markdown",
   "id": "05b3c875",
   "metadata": {
    "vscode": {
     "languageId": "plaintext"
    }
   },
   "source": [
    "MÓDULO 6 Random Variables:\n",
    "5 Actividades\n",
    "In order to predict better, we first need to understand how our dataset values are distributed, \n",
    "based on that we can better identify outliers, fill missing values and do better data mining in general.\n"
   ]
  },
  {
   "cell_type": "markdown",
   "id": "569e20ef",
   "metadata": {
    "vscode": {
     "languageId": "plaintext"
    }
   },
   "source": [
    "MÓDULO 7 Hypothesis Testing:\n",
    "2 Actividades\n",
    "Before creating an algorithm/model with your assumptions, it's recommended to use Hypothesis Testing (defining a null and alternative hypothesis) and test agains it.\n"
   ]
  },
  {
   "cell_type": "markdown",
   "id": "f9ea4c01",
   "metadata": {
    "vscode": {
     "languageId": "plaintext"
    }
   },
   "source": [
    "MÓDULO 8 Algorithm Optimization:\n",
    "2 Actividades\n",
    "Algorithms need time and space to run, as a machine learning engineer you should learn how to optimize \n",
    "your code to take the lowest amount of space without taking too much time to execute. "
   ]
  },
  {
   "cell_type": "markdown",
   "id": "b5377d3e",
   "metadata": {},
   "source": [
    "MÓDULO 9 M.L. Ops:\n",
    "4 Actividades\n",
    "If you are going to be deploying your machine learning models you need to know the command line, \n",
    "python package manager (PIP) and the cookie cutter boilerplate (at least). Today you will get the first Machine Learning Operations lesson."
   ]
  },
  {
   "cell_type": "markdown",
   "id": "5f19fa25",
   "metadata": {},
   "source": [
    "MÓDULO 10 Intro to SQL:\n",
    "SQL is the language for data, all the famous database engines use it to query or manipulate the data inside the database, \n",
    "lets get familiar with the most basic concepts, instructions and connect to our first real database."
   ]
  },
  {
   "cell_type": "markdown",
   "id": "595e9440",
   "metadata": {},
   "source": [
    "MÓDULO 11 Web Scraping:\n",
    "4 Actividades\n",
    "Scraping is one of the most used sources of gathering data in the world of machine learning. \n",
    "This technology allows you to download almost anything publicly available on the internet, even without an API! Let's do our first scraping and learn the basics of it."
   ]
  },
  {
   "cell_type": "markdown",
   "id": "14a91673",
   "metadata": {},
   "source": [
    "MÓDULO 12 API Requests:\n",
    "3 Actividades\n",
    "The last wait to fetch or retrieve data that we will be learning during the courses is API integrations, that are millions of public API's on the internet with very valuable information. As a Machine Learning Engineer sometimes you will need to use the python request package to connect to an API and get the extra data you need."
   ]
  },
  {
   "cell_type": "markdown",
   "id": "4f70b83d",
   "metadata": {},
   "source": [
    "MÓDULO 13 Exploratory Data Analysis:\n",
    "3 Actividades\n",
    "Find patterns in your data in order to get insights and valuable information. \n",
    "Use that information to make decisions and generate better predictions. \n",
    "If your data is garbage, the output will be garbage: Clean your data to avoid poor quality outputs."
   ]
  },
  {
   "cell_type": "markdown",
   "id": "fa9abfb7",
   "metadata": {},
   "source": [
    "MÓDULO 14 Your first Machine Learning Algorithm:\n",
    "5 Actividades\n",
    "During this module you will learn the basics of machine learning, \n",
    "the evaluation metrics and how to optimize your ML algo. We will start our journey with logistic regressions."
   ]
  },
  {
   "cell_type": "markdown",
   "id": "2f061d09",
   "metadata": {},
   "source": [
    "MÓDULO 15 Linear Regression:\n",
    "3 Actividades\n",
    "Read the linear regression theory and run the code in the exploring linear regression notebook to practice. \n",
    "Then go to your project and predict the cost of a medical insurance using Linear Regression"
   ]
  },
  {
   "cell_type": "markdown",
   "id": "b4cf9180",
   "metadata": {},
   "source": [
    "MÓDULO 16 Regularized Linear Regression:\n",
    "2 Actividades\n",
    "It is very important to avoid overfitting, so in this lesson you will learn \n",
    "about regularized linear regression models, which are a common way to avoid it."
   ]
  },
  {
   "cell_type": "markdown",
   "id": "5f3442de",
   "metadata": {},
   "source": [
    "MÓDULO 17 Decision Tree Algorithm:\n",
    "3 Actividades\n",
    "This is one of the most used algorithms in the industry. Decision Tree's are used for both classification and regression problems. This algorithm makes decisions by building trees with nodes, leaves and branches to make decisions"
   ]
  },
  {
   "cell_type": "markdown",
   "id": "b4ae1827",
   "metadata": {},
   "source": [
    "MÓDULO 18 Random Forest Algorithm:\n",
    "3 Actividades\n",
    "In this module we will add some randomness to our trees and build machine learning models using Random Forest."
   ]
  },
  {
   "cell_type": "markdown",
   "id": "bce2756e",
   "metadata": {},
   "source": [
    "MÓDULO 19 Boosting Algorithms:\n",
    "3 Actividades\n",
    "In this lesson, we will learn about boosting techniques, specifically about gradient descent algorithm and XGBoost (extreme gradient descent)."
   ]
  },
  {
   "cell_type": "markdown",
   "id": "4965d4e8",
   "metadata": {},
   "source": [
    "MÓDULO 20 Naive Bayes Algorithm:\n",
    "3 Actividades\n",
    "Were you wondering when are you going to apply Bayes Theorem? Now it's the time. The Naive Bayes algorithm is one of the fastest algorithm and its based in the bayes theorem. We will use it for classification and also as a brief and simple introduction to NLP, which we'll learn deeper in another module."
   ]
  },
  {
   "cell_type": "markdown",
   "id": "840194df",
   "metadata": {},
   "source": [
    "MÓDULO 21 K-nearest neighbors:\n",
    "4 Actividades\n",
    "In this module we will learn about the k-nearest neighbors algorithm and we will dive into a very simple recommender system built with k-nearest neighbors."
   ]
  },
  {
   "cell_type": "markdown",
   "id": "446d8336",
   "metadata": {},
   "source": [
    "MÓDULO 22 Unsupervised learning:\n",
    "2 Actividades\n",
    "In this module we will learn about a couple of unsupervised algorithms but we will focus on k-means for clustering with a very simple project to help you understand how to group data in clusters."
   ]
  },
  {
   "cell_type": "markdown",
   "id": "6904269d",
   "metadata": {},
   "source": [
    "MÓDULO 23 Time Series forecasting:\n",
    "4 Actividades\n",
    "In this lesson, we will learn how to recognize and deal with time series when they are present in our datasets. This lesson's project will be a real time competition so get all your skills ready!"
   ]
  },
  {
   "cell_type": "markdown",
   "id": "d2bf8fb8",
   "metadata": {},
   "source": [
    "MÓDULO 24 Intro to Deep Learning:\n",
    "3 Actividades\n",
    "This is our last module on algorithms. We will close this part with a brief introduction to deep learning and neural networks so that we can learn a more complex but efficient model."
   ]
  },
  {
   "cell_type": "markdown",
   "id": "b612ca9b",
   "metadata": {},
   "source": [
    "MÓDULO 25 Intro to NLP:\n",
    "4 Actividades\n",
    "In this module we will learn the basics of a new algorithm: Support Vector machine and we will also have an intro to Natural Language Processing. We will combine both by practicing with an email spam classifier on the exploring NLP notebook, and then you will work on a URL spam classifier in your project."
   ]
  },
  {
   "cell_type": "markdown",
   "id": "2ad1c4c9",
   "metadata": {},
   "source": [
    "MÓDULO 26 ML web app using Flask:\n",
    "0 Actividades\n",
    "In this lesson, we will learn how to build a machine learning web application using one of your best models and the Flask tool. Then we will deploy it to Heroku so that our model can be showed to the world."
   ]
  },
  {
   "cell_type": "markdown",
   "id": "5fb14cd4",
   "metadata": {},
   "source": [
    "MÓDULO 27 ML webapp using Streamlit:\n",
    "3 Actividades\n",
    "In this lesson, we will learn how to build a machine learning web application using one of your best models and the Streamlit tool. Then we will deploy it to Heroku so that our model can be showed to the world."
   ]
  },
  {
   "cell_type": "markdown",
   "id": "c18a9e7d",
   "metadata": {},
   "source": [
    "MÓDULO 28 Cloud Computing for ML:\n",
    "2 Actividades\n",
    "This is our last lesson, a brief introduction to cloud computing resources for machine learning. \n",
    "When using large datasets, it is important to know what resources are available for us in the cloud. \n",
    "They can help us reducing training times. Read this lesson at home and discuss it in class. \n",
    "Feel free to dive deeper into your preferred platform with the learning links mentioned in the lesson."
   ]
  },
  {
   "cell_type": "markdown",
   "id": "ef724079",
   "metadata": {},
   "source": [
    "MÓDULO 29 FINAL PROJECT:\n",
    "1 Actividades\n",
    "You have reached the final project! Read the following instructions to start your own project."
   ]
  }
 ],
 "metadata": {
  "language_info": {
   "name": "python"
  }
 },
 "nbformat": 4,
 "nbformat_minor": 5
}
